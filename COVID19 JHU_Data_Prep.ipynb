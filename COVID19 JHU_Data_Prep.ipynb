{
 "cells": [
  {
   "cell_type": "markdown",
   "metadata": {},
   "source": [
    "# Libraries"
   ]
  },
  {
   "cell_type": "code",
   "execution_count": 1,
   "metadata": {},
   "outputs": [],
   "source": [
    "import os\n",
    "import pandas as pd\n",
    "import numpy as np\n",
    "from tqdm import tqdm\n",
    "from datetime import timedelta\n",
    "\n",
    "import matplotlib.pyplot as plt\n",
    "import seaborn as sns\n",
    "sns.set_style('dark')\n",
    "plt.style.use('dark_background')\n",
    "\n",
    "import plotly.graph_objects as go\n",
    "import plotly.express as px\n",
    "import plotly.io as pio\n",
    "pio.templates.default = \"plotly_dark\"\n",
    "from plotly.subplots import make_subplots\n",
    "\n",
    "from google.cloud import bigquery\n",
    "from google_auth_oauthlib import flow\n",
    "\n",
    "from pmdarima import auto_arima"
   ]
  },
  {
   "cell_type": "markdown",
   "metadata": {},
   "source": [
    "# Data Loading"
   ]
  },
  {
   "cell_type": "markdown",
   "metadata": {},
   "source": [
    "## Auth"
   ]
  },
  {
   "cell_type": "code",
   "execution_count": 2,
   "metadata": {},
   "outputs": [
    {
     "name": "stdout",
     "output_type": "stream",
     "text": [
      "Please visit this URL to authorize this application: https://accounts.google.com/o/oauth2/auth?response_type=code&client_id=785401200582-2bsmu4f83epjs2o0t01a3gh5je282814.apps.googleusercontent.com&redirect_uri=http%3A%2F%2Flocalhost%3A8080%2F&scope=https%3A%2F%2Fwww.googleapis.com%2Fauth%2Fbigquery&state=PZhnH7S9HtHhWVoBSpRzYx14fi6tVS&access_type=offline\n"
     ]
    }
   ],
   "source": [
    "appflow = flow.InstalledAppFlow.from_client_secrets_file(\n",
    "    'client_secrets.json',\n",
    "    scopes=['https://www.googleapis.com/auth/bigquery'])\n",
    "appflow.run_local_server()\n",
    "credentials = appflow.credentials"
   ]
  },
  {
   "cell_type": "markdown",
   "metadata": {},
   "source": [
    "## Get JHU dataset"
   ]
  },
  {
   "cell_type": "code",
   "execution_count": 3,
   "metadata": {},
   "outputs": [],
   "source": [
    "client = bigquery.Client(project='put_your_name_project', credentials=credentials)\n",
    "QUERY = '''\n",
    "SELECT * FROM `bigquery-public-data.covid19_jhu_csse.summary`\n",
    "'''\n",
    "all_df = client.query(QUERY).to_dataframe()"
   ]
  },
  {
   "cell_type": "code",
   "execution_count": 4,
   "metadata": {},
   "outputs": [],
   "source": [
    "df = all_df[['province_state', 'country_region', 'date', 'latitude', 'longitude', 'confirmed', 'deaths', 'recovered', 'active']]"
   ]
  },
  {
   "cell_type": "code",
   "execution_count": 5,
   "metadata": {},
   "outputs": [],
   "source": [
    "# df.to_csv(os.path.join('data', 'raw_cov.csv'), index=False)"
   ]
  },
  {
   "cell_type": "markdown",
   "metadata": {},
   "source": [
    "# Data Preprocessing"
   ]
  },
  {
   "cell_type": "code",
   "execution_count": 6,
   "metadata": {},
   "outputs": [
    {
     "data": {
      "text/plain": [
       "(117383, 9)"
      ]
     },
     "execution_count": 6,
     "metadata": {},
     "output_type": "execute_result"
    }
   ],
   "source": [
    "df.shape"
   ]
  },
  {
   "cell_type": "code",
   "execution_count": 7,
   "metadata": {},
   "outputs": [
    {
     "name": "stdout",
     "output_type": "stream",
     "text": [
      "<class 'pandas.core.frame.DataFrame'>\n",
      "RangeIndex: 117383 entries, 0 to 117382\n",
      "Data columns (total 9 columns):\n",
      " #   Column          Non-Null Count   Dtype  \n",
      "---  ------          --------------   -----  \n",
      " 0   province_state  107744 non-null  object \n",
      " 1   country_region  117383 non-null  object \n",
      " 2   date            117383 non-null  object \n",
      " 3   latitude        113073 non-null  float64\n",
      " 4   longitude       113073 non-null  float64\n",
      " 5   confirmed       117364 non-null  float64\n",
      " 6   deaths          116942 non-null  float64\n",
      " 7   recovered       116995 non-null  float64\n",
      " 8   active          109766 non-null  float64\n",
      "dtypes: float64(6), object(3)\n",
      "memory usage: 8.1+ MB\n"
     ]
    }
   ],
   "source": [
    "df.info()"
   ]
  },
  {
   "cell_type": "code",
   "execution_count": 8,
   "metadata": {},
   "outputs": [
    {
     "name": "stderr",
     "output_type": "stream",
     "text": [
      "C:\\Users\\fatma\\AppData\\Roaming\\Python\\Python37\\site-packages\\ipykernel_launcher.py:1: SettingWithCopyWarning:\n",
      "\n",
      "\n",
      "A value is trying to be set on a copy of a slice from a DataFrame.\n",
      "Try using .loc[row_indexer,col_indexer] = value instead\n",
      "\n",
      "See the caveats in the documentation: https://pandas.pydata.org/pandas-docs/stable/user_guide/indexing.html#returning-a-view-versus-a-copy\n",
      "\n"
     ]
    }
   ],
   "source": [
    "df['date'] = pd.to_datetime(df['date'])"
   ]
  },
  {
   "cell_type": "code",
   "execution_count": 9,
   "metadata": {},
   "outputs": [
    {
     "data": {
      "text/html": [
       "<div>\n",
       "<style scoped>\n",
       "    .dataframe tbody tr th:only-of-type {\n",
       "        vertical-align: middle;\n",
       "    }\n",
       "\n",
       "    .dataframe tbody tr th {\n",
       "        vertical-align: top;\n",
       "    }\n",
       "\n",
       "    .dataframe thead th {\n",
       "        text-align: right;\n",
       "    }\n",
       "</style>\n",
       "<table border=\"1\" class=\"dataframe\">\n",
       "  <thead>\n",
       "    <tr style=\"text-align: right;\">\n",
       "      <th></th>\n",
       "      <th>latitude</th>\n",
       "      <th>longitude</th>\n",
       "      <th>confirmed</th>\n",
       "      <th>deaths</th>\n",
       "      <th>recovered</th>\n",
       "      <th>active</th>\n",
       "    </tr>\n",
       "  </thead>\n",
       "  <tbody>\n",
       "    <tr>\n",
       "      <th>count</th>\n",
       "      <td>113073.000000</td>\n",
       "      <td>113073.000000</td>\n",
       "      <td>117364.000000</td>\n",
       "      <td>116942.000000</td>\n",
       "      <td>116995.000000</td>\n",
       "      <td>109766.000000</td>\n",
       "    </tr>\n",
       "    <tr>\n",
       "      <th>mean</th>\n",
       "      <td>36.326821</td>\n",
       "      <td>-77.465211</td>\n",
       "      <td>523.148819</td>\n",
       "      <td>31.816730</td>\n",
       "      <td>134.142536</td>\n",
       "      <td>312.695662</td>\n",
       "    </tr>\n",
       "    <tr>\n",
       "      <th>std</th>\n",
       "      <td>10.934090</td>\n",
       "      <td>46.634873</td>\n",
       "      <td>5823.909984</td>\n",
       "      <td>568.974838</td>\n",
       "      <td>2433.086948</td>\n",
       "      <td>3842.139441</td>\n",
       "    </tr>\n",
       "    <tr>\n",
       "      <th>min</th>\n",
       "      <td>-51.796300</td>\n",
       "      <td>-170.132000</td>\n",
       "      <td>0.000000</td>\n",
       "      <td>0.000000</td>\n",
       "      <td>0.000000</td>\n",
       "      <td>-106988.000000</td>\n",
       "    </tr>\n",
       "    <tr>\n",
       "      <th>25%</th>\n",
       "      <td>33.616168</td>\n",
       "      <td>-96.012303</td>\n",
       "      <td>2.000000</td>\n",
       "      <td>0.000000</td>\n",
       "      <td>0.000000</td>\n",
       "      <td>0.000000</td>\n",
       "    </tr>\n",
       "    <tr>\n",
       "      <th>50%</th>\n",
       "      <td>37.837664</td>\n",
       "      <td>-87.308911</td>\n",
       "      <td>8.000000</td>\n",
       "      <td>0.000000</td>\n",
       "      <td>0.000000</td>\n",
       "      <td>0.000000</td>\n",
       "    </tr>\n",
       "    <tr>\n",
       "      <th>75%</th>\n",
       "      <td>41.608600</td>\n",
       "      <td>-80.242447</td>\n",
       "      <td>47.000000</td>\n",
       "      <td>1.000000</td>\n",
       "      <td>0.000000</td>\n",
       "      <td>15.000000</td>\n",
       "    </tr>\n",
       "    <tr>\n",
       "      <th>max</th>\n",
       "      <td>72.000000</td>\n",
       "      <td>178.065000</td>\n",
       "      <td>226629.000000</td>\n",
       "      <td>26644.000000</td>\n",
       "      <td>117727.000000</td>\n",
       "      <td>140978.000000</td>\n",
       "    </tr>\n",
       "  </tbody>\n",
       "</table>\n",
       "</div>"
      ],
      "text/plain": [
       "            latitude      longitude      confirmed         deaths  \\\n",
       "count  113073.000000  113073.000000  117364.000000  116942.000000   \n",
       "mean       36.326821     -77.465211     523.148819      31.816730   \n",
       "std        10.934090      46.634873    5823.909984     568.974838   \n",
       "min       -51.796300    -170.132000       0.000000       0.000000   \n",
       "25%        33.616168     -96.012303       2.000000       0.000000   \n",
       "50%        37.837664     -87.308911       8.000000       0.000000   \n",
       "75%        41.608600     -80.242447      47.000000       1.000000   \n",
       "max        72.000000     178.065000  226629.000000   26644.000000   \n",
       "\n",
       "           recovered         active  \n",
       "count  116995.000000  109766.000000  \n",
       "mean      134.142536     312.695662  \n",
       "std      2433.086948    3842.139441  \n",
       "min         0.000000 -106988.000000  \n",
       "25%         0.000000       0.000000  \n",
       "50%         0.000000       0.000000  \n",
       "75%         0.000000      15.000000  \n",
       "max    117727.000000  140978.000000  "
      ]
     },
     "execution_count": 9,
     "metadata": {},
     "output_type": "execute_result"
    }
   ],
   "source": [
    "df.describe()"
   ]
  },
  {
   "cell_type": "code",
   "execution_count": 10,
   "metadata": {},
   "outputs": [
    {
     "data": {
      "text/plain": [
       "province_state    9639\n",
       "country_region       0\n",
       "date                 0\n",
       "latitude          4310\n",
       "longitude         4310\n",
       "confirmed           19\n",
       "deaths             441\n",
       "recovered          388\n",
       "active            7617\n",
       "dtype: int64"
      ]
     },
     "execution_count": 10,
     "metadata": {},
     "output_type": "execute_result"
    }
   ],
   "source": [
    "df.isnull().sum()"
   ]
  },
  {
   "cell_type": "code",
   "execution_count": 11,
   "metadata": {},
   "outputs": [],
   "source": [
    "df = df.sort_values(by=['country_region','province_state','date'])"
   ]
  },
  {
   "cell_type": "code",
   "execution_count": 12,
   "metadata": {},
   "outputs": [],
   "source": [
    "first_day = min(df['date'])"
   ]
  },
  {
   "cell_type": "code",
   "execution_count": 13,
   "metadata": {},
   "outputs": [],
   "source": [
    "last_day = max(df['date'])"
   ]
  },
  {
   "cell_type": "code",
   "execution_count": 14,
   "metadata": {},
   "outputs": [
    {
     "name": "stdout",
     "output_type": "stream",
     "text": [
      "First day of data 2020-01-22 00:00:00, Last day of data 2020-04-26 00:00:00, Number of days 96\n"
     ]
    }
   ],
   "source": [
    "print('First day of data {}, Last day of data {}, Number of days {}'.format(first_day, last_day, (last_day - first_day).days + 1))"
   ]
  },
  {
   "cell_type": "markdown",
   "metadata": {},
   "source": [
    "## Removing not updated countries/states"
   ]
  },
  {
   "cell_type": "code",
   "execution_count": 15,
   "metadata": {},
   "outputs": [
    {
     "data": {
      "text/plain": [
       "(117383, 9)"
      ]
     },
     "execution_count": 15,
     "metadata": {},
     "output_type": "execute_result"
    }
   ],
   "source": [
    "df.shape"
   ]
  },
  {
   "cell_type": "code",
   "execution_count": 16,
   "metadata": {},
   "outputs": [],
   "source": [
    "df.loc[:,'province_state'] = df['province_state'].fillna(value=np.nan).values\n",
    "df.loc[:,'province_state'] = df['province_state'].replace('None', np.nan).values"
   ]
  },
  {
   "cell_type": "code",
   "execution_count": 17,
   "metadata": {},
   "outputs": [],
   "source": [
    "df['latitude'] = df['latitude'].replace(np.nan,'nan')\n",
    "df['longitude'] = df['longitude'].replace(np.nan,'nan')\n",
    "df['province_state'] = df['province_state'].replace(np.nan,'nan')"
   ]
  },
  {
   "cell_type": "code",
   "execution_count": 18,
   "metadata": {},
   "outputs": [],
   "source": [
    "df = df.groupby(['country_region','province_state','date','latitude','longitude'])[['confirmed','deaths','recovered','active']].sum().reset_index()"
   ]
  },
  {
   "cell_type": "code",
   "execution_count": 19,
   "metadata": {},
   "outputs": [
    {
     "name": "stderr",
     "output_type": "stream",
     "text": [
      "100%|████████████████████████████████████████████████████████████████████████████████| 234/234 [00:34<00:00,  6.87it/s]\n"
     ]
    }
   ],
   "source": [
    "for country in tqdm(df['country_region'].unique()):\n",
    "    for state in df.loc[df['country_region'] == country,'province_state'].unique():\n",
    "        if max(df.loc[(df['country_region'] == country) & (df['province_state'] == state),'date']) != last_day:\n",
    "            df.drop(df[(df['country_region'] == country) & (df['province_state'] == state)].index, axis=0, inplace=True)"
   ]
  },
  {
   "cell_type": "code",
   "execution_count": 20,
   "metadata": {},
   "outputs": [
    {
     "data": {
      "text/plain": [
       "(114056, 9)"
      ]
     },
     "execution_count": 20,
     "metadata": {},
     "output_type": "execute_result"
    }
   ],
   "source": [
    "df.shape"
   ]
  },
  {
   "cell_type": "code",
   "execution_count": 21,
   "metadata": {},
   "outputs": [],
   "source": [
    "df['latitude'] = df['latitude'].replace('nan', np.nan)\n",
    "df['longitude'] = df['longitude'].replace('nan', np.nan)\n",
    "df['province_state'] = df['province_state'].replace('nan',np.nan)"
   ]
  },
  {
   "cell_type": "code",
   "execution_count": 22,
   "metadata": {},
   "outputs": [],
   "source": [
    "df = df.sort_values(by=['country_region','province_state','date'])"
   ]
  },
  {
   "cell_type": "code",
   "execution_count": 23,
   "metadata": {},
   "outputs": [],
   "source": [
    "df.reset_index(drop=True, inplace=True)"
   ]
  },
  {
   "cell_type": "markdown",
   "metadata": {},
   "source": [
    "## Cleaning countries and states"
   ]
  },
  {
   "cell_type": "code",
   "execution_count": 24,
   "metadata": {},
   "outputs": [],
   "source": [
    "# df.loc[:,'province_state'] = df['province_state'].fillna(value=np.nan).values\n",
    "# df.loc[:,'province_state'] = df['province_state'].replace('None', np.nan).values"
   ]
  },
  {
   "cell_type": "code",
   "execution_count": 25,
   "metadata": {},
   "outputs": [],
   "source": [
    "changed_names = {\n",
    "    ' Azerbaijan': 'Azerbaijan',\n",
    "    'Bahamas, The': 'Bahamas',\n",
    "    'Gambia, The': 'Gambia',\n",
    "    'Hong Kong SAR': 'Hong Kong',\n",
    "    'Iran (Islamic Republic of)':'Iran',\n",
    "    'Macao SAR':'Macao',\n",
    "    'Macau': 'Macao',\n",
    "    \"Taiwan*\": \"Taiwan\",\n",
    "    'Viet Nam': 'Vietnam',\n",
    "    'occupied Palestinian territory':'Palestine',\n",
    "    'West Bank and Gaza':'Palestine',\n",
    "    \n",
    "    \"Holy See\": \"Holy See (Vatican City State)\",\n",
    "    \"Vatican City\": \"Holy See (Vatican City State)\",\n",
    "    \"Republic of Korea\": \"Korea, Republic of\",\n",
    "    \"South Korea\": \"Korea, Republic of\",\n",
    "    \"Korea, South\": \"Korea, Republic of\",\n",
    "    \"Russian Federation\": \"Russia\",\n",
    "    \"Saint Martin\": \"Sint Maarten (Dutch part)\",\n",
    "    \"St. Martin\": \"Sint Maarten (Dutch part)\",\n",
    "    \"Taipei and environs\": \"Taiwan\",\n",
    "    \"Gambia, The\": \"Gambia\",\n",
    "    \"The Gambia\": \"Gambia\",\n",
    "    \"US\": \"United States\",\n",
    "    \"Republic of Moldova\": \"Moldova, Republic of\",\n",
    "    \"Moldova\": \"Moldova, Republic of\",\n",
    "    \"The Bahamas\": \"Bahamas\",\n",
    "    \"East Timor\": \"Timor-Leste\",\n",
    "    \"Cape Verde\": \"Cabo Verde\",\n",
    "    'Republic of the Congo': \"Congo, The Democratic Republic of the\",\n",
    "    \"Congo (Brazzaville)\": \"Congo\",\n",
    "    \"Congo (Kinshasa)\": \"Congo, The Democratic Republic of the\",\n",
    "    'UK':'United Kingdom',\n",
    "    'Mainland China': 'China'\n",
    "}"
   ]
  },
  {
   "cell_type": "code",
   "execution_count": 26,
   "metadata": {},
   "outputs": [],
   "source": [
    "changed_states = {\n",
    "    'Fench Guiana':'French Guiana',\n",
    "    'UK':'United Kingdom',\n",
    "    'US':'United States'\n",
    "}"
   ]
  },
  {
   "cell_type": "code",
   "execution_count": 27,
   "metadata": {},
   "outputs": [],
   "source": [
    "df['country_region'] = df['country_region'].replace(changed_names)"
   ]
  },
  {
   "cell_type": "code",
   "execution_count": 28,
   "metadata": {},
   "outputs": [],
   "source": [
    "df['province_state'] = df['province_state'].replace(changed_states)"
   ]
  },
  {
   "cell_type": "code",
   "execution_count": 29,
   "metadata": {},
   "outputs": [],
   "source": [
    "df = df[~(df['country_region'].isin(['Others', 'MS Zaandam', 'Cruise Ship', 'Diamond Princess']) | df['province_state'].isin(['From Diamond Princess', 'Diamond Princess', 'Recovered']))].reset_index(drop=True)"
   ]
  },
  {
   "cell_type": "code",
   "execution_count": 30,
   "metadata": {},
   "outputs": [
    {
     "data": {
      "text/plain": [
       "(113852, 9)"
      ]
     },
     "execution_count": 30,
     "metadata": {},
     "output_type": "execute_result"
    }
   ],
   "source": [
    "df.shape"
   ]
  },
  {
   "cell_type": "code",
   "execution_count": 31,
   "metadata": {
    "collapsed": true,
    "jupyter": {
     "outputs_hidden": true
    }
   },
   "outputs": [
    {
     "name": "stdout",
     "output_type": "stream",
     "text": [
      "Afghanistan [nan]\n",
      "Albania [nan]\n",
      "Algeria [nan]\n",
      "Andorra [nan]\n",
      "Angola [nan]\n",
      "Antigua and Barbuda [nan]\n",
      "Argentina [nan]\n",
      "Armenia [nan]\n",
      "Australia ['Australian Capital Territory' 'New South Wales' 'Northern Territory'\n",
      " 'Queensland' 'South Australia' 'Tasmania' 'Victoria' 'Western Australia']\n",
      "Austria [nan]\n",
      "Azerbaijan [nan]\n",
      "Bahamas [nan]\n",
      "Bahrain [nan]\n",
      "Bangladesh [nan]\n",
      "Barbados [nan]\n",
      "Belarus [nan]\n",
      "Belgium [nan]\n",
      "Belize [nan]\n",
      "Benin [nan]\n",
      "Bhutan [nan]\n",
      "Bolivia [nan]\n",
      "Bosnia and Herzegovina [nan]\n",
      "Botswana [nan]\n",
      "Brazil [nan]\n",
      "Brunei [nan]\n",
      "Bulgaria [nan]\n",
      "Burkina Faso [nan]\n",
      "Burma [nan]\n",
      "Burundi [nan]\n",
      "Cabo Verde [nan]\n",
      "Cambodia [nan]\n",
      "Cameroon [nan]\n",
      "Canada ['Alberta' 'British Columbia' 'Manitoba' 'New Brunswick'\n",
      " 'Newfoundland and Labrador' 'Northwest Territories' 'Ontario'\n",
      " 'Prince Edward Island' 'Quebec' 'Saskatchewan' 'Yukon']\n",
      "Central African Republic [nan]\n",
      "Chad [nan]\n",
      "Chile [nan]\n",
      "China ['Anhui' 'Beijing' 'Chongqing' 'Fujian' 'Gansu' 'Guangdong' 'Guangxi'\n",
      " 'Guizhou' 'Hainan' 'Hebei' 'Heilongjiang' 'Henan' 'Hong Kong' 'Hubei'\n",
      " 'Hunan' 'Inner Mongolia' 'Jiangsu' 'Jiangxi' 'Jilin' 'Liaoning' 'Macau'\n",
      " 'Ningxia' 'Qinghai' 'Shaanxi' 'Shandong' 'Shanghai' 'Shanxi' 'Sichuan'\n",
      " 'Tianjin' 'Tibet' 'Xinjiang' 'Yunnan' 'Zhejiang']\n",
      "Colombia [nan]\n",
      "Congo [nan]\n",
      "Congo, The Democratic Republic of the [nan]\n",
      "Costa Rica [nan]\n",
      "Cote d'Ivoire [nan]\n",
      "Croatia [nan]\n",
      "Cuba [nan]\n",
      "Cyprus [nan]\n",
      "Czechia [nan]\n",
      "Denmark ['Faroe Islands' 'Greenland' nan]\n",
      "Djibouti [nan]\n",
      "Dominica [nan]\n",
      "Dominican Republic [nan]\n",
      "Ecuador [nan]\n",
      "Egypt [nan]\n",
      "El Salvador [nan]\n",
      "Equatorial Guinea [nan]\n",
      "Eritrea [nan]\n",
      "Estonia [nan]\n",
      "Eswatini [nan]\n",
      "Ethiopia [nan]\n",
      "Fiji [nan]\n",
      "Finland [nan]\n",
      "France ['French Guiana' 'French Polynesia' 'Guadeloupe' 'Martinique' 'Mayotte'\n",
      " 'New Caledonia' 'Reunion' 'Saint Barthelemy' 'Saint Pierre and Miquelon'\n",
      " 'St Martin' nan]\n",
      "Gabon [nan]\n",
      "Gambia [nan]\n",
      "Georgia [nan]\n",
      "Germany [nan]\n",
      "Ghana [nan]\n",
      "Greece [nan]\n",
      "Grenada [nan]\n",
      "Guatemala [nan]\n",
      "Guinea [nan]\n",
      "Guinea-Bissau [nan]\n",
      "Guyana [nan]\n",
      "Haiti [nan]\n",
      "Holy See (Vatican City State) [nan]\n",
      "Honduras [nan]\n",
      "Hungary [nan]\n",
      "Iceland [nan]\n",
      "India [nan]\n",
      "Indonesia [nan]\n",
      "Iran [nan]\n",
      "Iraq [nan]\n",
      "Ireland [nan]\n",
      "Israel [nan]\n",
      "Italy [nan]\n",
      "Jamaica [nan]\n",
      "Japan [nan]\n",
      "Jordan [nan]\n",
      "Kazakhstan [nan]\n",
      "Kenya [nan]\n",
      "Korea, Republic of [nan]\n",
      "Kosovo [nan]\n",
      "Kuwait [nan]\n",
      "Kyrgyzstan [nan]\n",
      "Laos [nan]\n",
      "Latvia [nan]\n",
      "Lebanon [nan]\n",
      "Liberia [nan]\n",
      "Libya [nan]\n",
      "Liechtenstein [nan]\n",
      "Lithuania [nan]\n",
      "Luxembourg [nan]\n",
      "Madagascar [nan]\n",
      "Malawi [nan]\n",
      "Malaysia [nan]\n",
      "Maldives [nan]\n",
      "Mali [nan]\n",
      "Malta [nan]\n",
      "Mauritania [nan]\n",
      "Mauritius [nan]\n",
      "Mexico [nan]\n",
      "Moldova, Republic of [nan]\n",
      "Monaco [nan]\n",
      "Mongolia [nan]\n",
      "Montenegro [nan]\n",
      "Morocco [nan]\n",
      "Mozambique [nan]\n",
      "Namibia [nan]\n",
      "Nepal [nan]\n",
      "Netherlands ['Aruba' 'Bonaire, Sint Eustatius and Saba' 'Curacao' 'Sint Maarten' nan]\n",
      "New Zealand [nan]\n",
      "Nicaragua [nan]\n",
      "Niger [nan]\n",
      "Nigeria [nan]\n",
      "North Macedonia [nan]\n",
      "Norway [nan]\n",
      "Oman [nan]\n",
      "Pakistan [nan]\n",
      "Panama [nan]\n",
      "Papua New Guinea [nan]\n",
      "Paraguay [nan]\n",
      "Peru [nan]\n",
      "Philippines [nan]\n",
      "Poland [nan]\n",
      "Portugal [nan]\n",
      "Qatar [nan]\n",
      "Romania [nan]\n",
      "Russia [nan]\n",
      "Rwanda [nan]\n",
      "Saint Kitts and Nevis [nan]\n",
      "Saint Lucia [nan]\n",
      "Saint Vincent and the Grenadines [nan]\n",
      "San Marino [nan]\n",
      "Sao Tome and Principe [nan]\n",
      "Saudi Arabia [nan]\n",
      "Senegal [nan]\n",
      "Serbia [nan]\n",
      "Seychelles [nan]\n",
      "Sierra Leone [nan]\n",
      "Singapore [nan]\n",
      "Slovakia [nan]\n",
      "Slovenia [nan]\n",
      "Somalia [nan]\n",
      "South Africa [nan]\n",
      "South Sudan [nan]\n",
      "Spain [nan]\n",
      "Sri Lanka [nan]\n",
      "Sudan [nan]\n",
      "Suriname [nan]\n",
      "Sweden [nan]\n",
      "Switzerland [nan]\n",
      "Syria [nan]\n",
      "Taiwan [nan]\n",
      "Tanzania [nan]\n",
      "Thailand [nan]\n",
      "Timor-Leste [nan]\n",
      "Togo [nan]\n",
      "Trinidad and Tobago [nan]\n",
      "Tunisia [nan]\n",
      "Turkey [nan]\n",
      "United States ['Alabama' 'Alaska' 'Arizona' 'Arkansas' 'California' 'Colorado'\n",
      " 'Connecticut' 'Delaware' 'District of Columbia' 'Florida' 'Georgia'\n",
      " 'Grand Princess' 'Guam' 'Hawaii' 'Idaho' 'Illinois' 'Indiana' 'Iowa'\n",
      " 'Kansas' 'Kentucky' 'Louisiana' 'Maine' 'Maryland' 'Massachusetts'\n",
      " 'Michigan' 'Minnesota' 'Mississippi' 'Missouri' 'Montana' 'Nebraska'\n",
      " 'Nevada' 'New Hampshire' 'New Jersey' 'New Mexico' 'New York'\n",
      " 'North Carolina' 'North Dakota' 'Northern Mariana Islands' 'Ohio'\n",
      " 'Oklahoma' 'Oregon' 'Pennsylvania' 'Puerto Rico' 'Rhode Island'\n",
      " 'South Carolina' 'South Dakota' 'Tennessee' 'Texas' 'Utah' 'Vermont'\n",
      " 'Virgin Islands' 'Virginia' 'Washington' 'West Virginia' 'Wisconsin'\n",
      " 'Wyoming']\n",
      "Uganda [nan]\n",
      "Ukraine [nan]\n",
      "United Arab Emirates [nan]\n",
      "United Kingdom ['Anguilla' 'Bermuda' 'British Virgin Islands' 'Cayman Islands'\n",
      " 'Channel Islands' 'Falkland Islands (Malvinas)' 'Gibraltar' 'Isle of Man'\n",
      " 'Montserrat' 'Turks and Caicos Islands' nan]\n",
      "Uruguay [nan]\n",
      "Uzbekistan [nan]\n",
      "Venezuela [nan]\n",
      "Vietnam [nan]\n",
      "Palestine [nan]\n",
      "Western Sahara [nan]\n",
      "Yemen [nan]\n",
      "Zambia [nan]\n",
      "Zimbabwe [nan]\n"
     ]
    }
   ],
   "source": [
    "for country in df['country_region'].unique():\n",
    "    print(country, df.loc[df['country_region'] == country, 'province_state'].unique())"
   ]
  },
  {
   "cell_type": "markdown",
   "metadata": {},
   "source": [
    "https://github.com/starschema/COVID-19-data/blob/master/notebooks/JHU_COVID-19.ipynb"
   ]
  },
  {
   "cell_type": "code",
   "execution_count": 32,
   "metadata": {},
   "outputs": [],
   "source": [
    "df['latitude'] = df['latitude'].replace(np.nan,'nan')\n",
    "df['longitude'] = df['longitude'].replace(np.nan,'nan')\n",
    "df['province_state'] = df['province_state'].replace(np.nan,'nan')"
   ]
  },
  {
   "cell_type": "code",
   "execution_count": 33,
   "metadata": {},
   "outputs": [],
   "source": [
    "df = df.groupby(['country_region','province_state','date','latitude','longitude'])[['confirmed','deaths','recovered','active']].sum().reset_index()"
   ]
  },
  {
   "cell_type": "code",
   "execution_count": 34,
   "metadata": {},
   "outputs": [],
   "source": [
    "# for country in tqdm(df['country_region'].unique()):\n",
    "#     for state in df.loc[df['country_region'] == country,'province_state'].unique():\n",
    "#         if max(df.loc[(df['country_region'] == country) & (df['province_state'] == state),'date']) != last_day:\n",
    "#             df.drop(df[(df['country_region'] == country) & (df['province_state'] == state)].index, axis=0, inplace=True)"
   ]
  },
  {
   "cell_type": "code",
   "execution_count": 35,
   "metadata": {},
   "outputs": [
    {
     "data": {
      "text/plain": [
       "(113852, 9)"
      ]
     },
     "execution_count": 35,
     "metadata": {},
     "output_type": "execute_result"
    }
   ],
   "source": [
    "df.shape"
   ]
  },
  {
   "cell_type": "code",
   "execution_count": 36,
   "metadata": {},
   "outputs": [],
   "source": [
    "df['latitude'] = df['latitude'].replace('nan', np.nan)\n",
    "df['longitude'] = df['longitude'].replace('nan', np.nan)\n",
    "df['province_state'] = df['province_state'].replace('nan',np.nan)"
   ]
  },
  {
   "cell_type": "code",
   "execution_count": 37,
   "metadata": {},
   "outputs": [],
   "source": [
    "df = df.sort_values(by=['country_region','province_state','date'])"
   ]
  },
  {
   "cell_type": "code",
   "execution_count": 38,
   "metadata": {},
   "outputs": [],
   "source": [
    "df.reset_index(drop=True, inplace=True)"
   ]
  },
  {
   "cell_type": "markdown",
   "metadata": {},
   "source": [
    "## Data Imputation"
   ]
  },
  {
   "cell_type": "markdown",
   "metadata": {},
   "source": [
    "### Outlier Detection"
   ]
  },
  {
   "cell_type": "code",
   "execution_count": 39,
   "metadata": {},
   "outputs": [
    {
     "name": "stderr",
     "output_type": "stream",
     "text": [
      "100%|████████████████████████████████████████████████████████████████████████████████| 183/183 [00:18<00:00, 10.12it/s]\n"
     ]
    }
   ],
   "source": [
    "for country in tqdm(df['country_region'].unique()):\n",
    "    n = df[df['country_region'] == country].shape[0]\n",
    "    if df.loc[df['country_region'] == country, 'province_state'].isnull().sum() == n:\n",
    "        df.loc[df['country_region'] == country, 'delta_confirmed'] = np.append(np.diff(df.loc[df['country_region'] == country,'confirmed']), 0)\n",
    "    else:\n",
    "        states = df.loc[df['country_region'] == country, 'province_state'].unique()\n",
    "        for state in states:\n",
    "            if str(state) == 'nan':\n",
    "                df.loc[(df['country_region'] == country) & (df['province_state'].isnull()), 'delta_confirmed'] = np.append(np.diff(df.loc[(df['country_region'] == country) & (df['province_state'].isnull()),'confirmed']), 0)                    \n",
    "            else:\n",
    "                df.loc[(df['country_region'] == country) & (df['province_state'] == state), 'delta_confirmed'] = np.append(np.diff(df.loc[(df['country_region'] == country) & (df['province_state'] == state),'confirmed']), 0)                    "
   ]
  },
  {
   "cell_type": "code",
   "execution_count": 40,
   "metadata": {},
   "outputs": [
    {
     "data": {
      "text/plain": [
       "-4176.2"
      ]
     },
     "execution_count": 40,
     "metadata": {},
     "output_type": "execute_result"
    }
   ],
   "source": [
    "np.quantile(df.loc[df['delta_confirmed'] < 0, 'delta_confirmed'], 0.01)"
   ]
  },
  {
   "cell_type": "markdown",
   "metadata": {},
   "source": [
    "<b>This method is not applicable for united stated since in a certain state we have precise data according to different latitude and longitude</b>"
   ]
  },
  {
   "cell_type": "code",
   "execution_count": 41,
   "metadata": {},
   "outputs": [],
   "source": [
    "df.loc[(df['delta_confirmed'] <= -1e4) & (df['country_region'] != 'United States'), ['confirmed', 'deaths', 'recovered', 'active']] = np.nan"
   ]
  },
  {
   "cell_type": "code",
   "execution_count": 42,
   "metadata": {},
   "outputs": [],
   "source": [
    "df.drop('delta_confirmed', axis=1, inplace=True)"
   ]
  },
  {
   "cell_type": "code",
   "execution_count": 43,
   "metadata": {},
   "outputs": [
    {
     "data": {
      "text/plain": [
       "country_region       0\n",
       "province_state    9303\n",
       "date                 0\n",
       "latitude          2141\n",
       "longitude         2141\n",
       "confirmed            1\n",
       "deaths               1\n",
       "recovered            1\n",
       "active               1\n",
       "dtype: int64"
      ]
     },
     "execution_count": 43,
     "metadata": {},
     "output_type": "execute_result"
    }
   ],
   "source": [
    "df.isnull().sum()"
   ]
  },
  {
   "cell_type": "markdown",
   "metadata": {},
   "source": [
    "### Checking frequency"
   ]
  },
  {
   "cell_type": "code",
   "execution_count": 44,
   "metadata": {},
   "outputs": [],
   "source": [
    "full_df = pd.DataFrame()"
   ]
  },
  {
   "cell_type": "code",
   "execution_count": 45,
   "metadata": {},
   "outputs": [
    {
     "name": "stderr",
     "output_type": "stream",
     "text": [
      "100%|████████████████████████████████████████████████████████████████████████████████| 183/183 [00:29<00:00,  6.28it/s]\n"
     ]
    }
   ],
   "source": [
    "for country in tqdm(df['country_region'].unique()):\n",
    "    n = df[df['country_region'] == country].shape[0]\n",
    "    if (df.loc[df['country_region'] == country, 'province_state'].isnull().sum() == n):\n",
    "        date_df = pd.DataFrame(pd.date_range(min(df.loc[df['country_region'] == country, 'date']), max(df.loc[df['country_region'] == country, 'date'])))\n",
    "        date_df.columns = ['all_date']\n",
    "        full_df = pd.concat([full_df, df[df['country_region'] == country].merge(date_df, left_on='date', right_on='all_date', how='right').sort_values(by='all_date').fillna(method='ffill').fillna(method='bfill').drop(['date'], axis=1)], axis=0)\n",
    "    else:\n",
    "        states = df.loc[df['country_region'] == country, 'province_state'].unique()\n",
    "        for state in states:\n",
    "            if str(state) == 'nan':\n",
    "                date_df = pd.DataFrame(pd.date_range(min(df.loc[(df['country_region'] == country) & (df['province_state'].isnull()), 'date']), max(df.loc[(df['country_region'] == country) & (df['province_state'].isnull()), 'date'])))\n",
    "                date_df.columns = ['all_date']\n",
    "                full_df = pd.concat([full_df, df[(df['country_region'] == country) & (df['province_state'].isnull())].merge(date_df, left_on='date', right_on='all_date', how='right').sort_values(by='all_date').fillna(method='ffill').fillna(method='bfill').drop(['date'], axis=1)], axis=0)\n",
    "            else:\n",
    "                date_df = pd.DataFrame(pd.date_range(min(df.loc[(df['country_region'] == country) & (df['province_state'] == state), 'date']), max(df.loc[(df['country_region'] == country) & (df['province_state'] == state), 'date'])))\n",
    "                date_df.columns = ['all_date']\n",
    "                full_df = pd.concat([full_df, df[(df['country_region'] == country) & (df['province_state'] == state)].merge(date_df, left_on='date', right_on='all_date', how='right').sort_values(by='all_date').fillna(method='ffill').fillna(method='bfill').drop(['date'], axis=1)], axis=0)"
   ]
  },
  {
   "cell_type": "code",
   "execution_count": 46,
   "metadata": {},
   "outputs": [
    {
     "data": {
      "text/plain": [
       "(114199, 9)"
      ]
     },
     "execution_count": 46,
     "metadata": {},
     "output_type": "execute_result"
    }
   ],
   "source": [
    "full_df.shape"
   ]
  },
  {
   "cell_type": "code",
   "execution_count": 47,
   "metadata": {},
   "outputs": [
    {
     "data": {
      "text/plain": [
       "country_region       0\n",
       "province_state    9458\n",
       "latitude             0\n",
       "longitude            0\n",
       "confirmed            0\n",
       "deaths               0\n",
       "recovered            0\n",
       "active               0\n",
       "all_date             0\n",
       "dtype: int64"
      ]
     },
     "execution_count": 47,
     "metadata": {},
     "output_type": "execute_result"
    }
   ],
   "source": [
    "full_df.isnull().sum()"
   ]
  },
  {
   "cell_type": "code",
   "execution_count": 48,
   "metadata": {},
   "outputs": [
    {
     "data": {
      "text/plain": [
       "country_region       0\n",
       "province_state    9303\n",
       "date                 0\n",
       "latitude          2141\n",
       "longitude         2141\n",
       "confirmed            1\n",
       "deaths               1\n",
       "recovered            1\n",
       "active               1\n",
       "dtype: int64"
      ]
     },
     "execution_count": 48,
     "metadata": {},
     "output_type": "execute_result"
    }
   ],
   "source": [
    "df.isnull().sum()"
   ]
  },
  {
   "cell_type": "code",
   "execution_count": 49,
   "metadata": {},
   "outputs": [],
   "source": [
    "missing_df = df.copy()"
   ]
  },
  {
   "cell_type": "code",
   "execution_count": 50,
   "metadata": {},
   "outputs": [
    {
     "data": {
      "text/plain": [
       "(113852, 9)"
      ]
     },
     "execution_count": 50,
     "metadata": {},
     "output_type": "execute_result"
    }
   ],
   "source": [
    "missing_df.shape"
   ]
  },
  {
   "cell_type": "code",
   "execution_count": 51,
   "metadata": {},
   "outputs": [],
   "source": [
    "df = full_df.copy()"
   ]
  },
  {
   "cell_type": "code",
   "execution_count": 52,
   "metadata": {},
   "outputs": [],
   "source": [
    "df.reset_index(drop=True, inplace=True)"
   ]
  },
  {
   "cell_type": "code",
   "execution_count": 53,
   "metadata": {},
   "outputs": [],
   "source": [
    "df.rename(columns={\"all_date\": \"date\"}, inplace=True)"
   ]
  },
  {
   "cell_type": "code",
   "execution_count": 55,
   "metadata": {},
   "outputs": [],
   "source": [
    "# df.to_csv(os.path.join('data','prep_cov.csv'), index=False)"
   ]
  }
 ],
 "metadata": {
  "kernelspec": {
   "display_name": "ML",
   "language": "python",
   "name": "ml"
  },
  "language_info": {
   "codemirror_mode": {
    "name": "ipython",
    "version": 3
   },
   "file_extension": ".py",
   "mimetype": "text/x-python",
   "name": "python",
   "nbconvert_exporter": "python",
   "pygments_lexer": "ipython3",
   "version": "3.7.7"
  }
 },
 "nbformat": 4,
 "nbformat_minor": 4
}
